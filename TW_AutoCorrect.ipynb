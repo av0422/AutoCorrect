{
 "cells": [
  {
   "cell_type": "markdown",
   "id": "b3d3e687",
   "metadata": {},
   "source": [
    "# AUTO CORRECT"
   ]
  },
  {
   "cell_type": "code",
   "execution_count": 5,
   "id": "b5df6846",
   "metadata": {},
   "outputs": [],
   "source": [
    "import re\n",
    "from collections import Counter #used for counting occurences"
   ]
  },
  {
   "cell_type": "markdown",
   "id": "2bd3a481",
   "metadata": {},
   "source": [
    "### Levenshtein distance\n",
    "Levenshtein distance, also known as edit distance, is a measure of the similarity between two strings. It represents the minimum number of single-character edits (insertions, deletions, or substitutions) required to change one string into the other. <br> \n",
    "\n",
    "The algorithm to compute the Levenshtein distance is dynamic programming-based and involves constructing a matrix where each cell represents the distance between substrings of the input strings. The bottom-right cell of the matrix contains the final Levenshtein distance."
   ]
  },
  {
   "cell_type": "code",
   "execution_count": 8,
   "id": "d6e1d683",
   "metadata": {},
   "outputs": [],
   "source": [
    "class autocorrect:\n",
    "    def __init__(self, corpus_file):\n",
    "        self.word_frequencies = self.load_corpus(corpus_file)\n",
    "\n",
    "    def load_corpus(self, corpus_file):\n",
    "        # Loading the corpus from a text file\n",
    "        with open(corpus_file, 'r', encoding='utf-8') as file:\n",
    "            corpus_text = file.read()\n",
    "\n",
    "        # Preprocessing the text and building word frequencies\n",
    "        preprocessed_text = self.preprocess_txt(corpus_text)\n",
    "        return Counter(preprocessed_text.split())\n",
    "\n",
    "    def preprocess_txt(self, text):\n",
    "        # Removing special characters and converting to lowercase\n",
    "        return re.sub(r'[^a-zA-Z\\s]', '', text).lower()\n",
    "\n",
    "    def get_closest_matches(self, word, n=3):\n",
    "        # Getting the n closest matches to the input word based on edit distance\n",
    "        return sorted(self.word_frequencies, key=lambda x: self.edit_distance(word, x))[:n]\n",
    "\n",
    "    def edit_distance(self, word1, word2):\n",
    "        # Computing the Levenshtein edit distance between two words\n",
    "        m, n = len(word1), len(word2)\n",
    "        dp = [[0] * (n + 1) for _ in range(m + 1)]\n",
    "\n",
    "        for i in range(m + 1):\n",
    "            for j in range(n + 1):\n",
    "                if i == 0:\n",
    "                    dp[i][j] = j\n",
    "                elif j == 0:\n",
    "                    dp[i][j] = i\n",
    "                elif word1[i - 1] == word2[j - 1]:\n",
    "                    dp[i][j] = dp[i - 1][j - 1]\n",
    "                else:\n",
    "                    dp[i][j] = 1 + min(dp[i - 1][j], dp[i][j - 1], dp[i - 1][j - 1])\n",
    "\n",
    "        return dp[m][n]\n"
   ]
  },
  {
   "cell_type": "code",
   "execution_count": 10,
   "id": "d780fd92",
   "metadata": {},
   "outputs": [
    {
     "name": "stdout",
     "output_type": "stream",
     "text": [
      "Enter a word: fice\n",
      "Suggested corrections: ['fife', 'fire', 'fine']\n"
     ]
    }
   ],
   "source": [
    "if __name__ == \"__main__\":\n",
    "    \n",
    "    file = \"book.txt\" \n",
    "    autocorrect_system = autocorrect(file)\n",
    "\n",
    "    input_word = input(\"Enter a word: \")\n",
    "    processed_input = autocorrect_system.preprocess_txt(input_word)\n",
    "\n",
    "    if processed_input in autocorrect_system.word_frequencies:\n",
    "        print(\"Word is already in the corpus.\")\n",
    "    else:\n",
    "        closest_matches = autocorrect_system.get_closest_matches(processed_input)\n",
    "        print(f\"Suggested corrections: {closest_matches}\")"
   ]
  },
  {
   "cell_type": "code",
   "execution_count": null,
   "id": "cd4c7589",
   "metadata": {},
   "outputs": [],
   "source": []
  }
 ],
 "metadata": {
  "kernelspec": {
   "display_name": "Python 3 (ipykernel)",
   "language": "python",
   "name": "python3"
  },
  "language_info": {
   "codemirror_mode": {
    "name": "ipython",
    "version": 3
   },
   "file_extension": ".py",
   "mimetype": "text/x-python",
   "name": "python",
   "nbconvert_exporter": "python",
   "pygments_lexer": "ipython3",
   "version": "3.9.12"
  }
 },
 "nbformat": 4,
 "nbformat_minor": 5
}
